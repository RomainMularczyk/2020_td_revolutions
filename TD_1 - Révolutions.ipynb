{
 "cells": [
  {
   "cell_type": "markdown",
   "metadata": {},
   "source": [
    "# TD 1 - Révolutions : Explorations du terme à partir de Wikipedia"
   ]
  },
  {
   "cell_type": "markdown",
   "metadata": {},
   "source": [
    "## 1. Extraire le corpus"
   ]
  },
  {
   "cell_type": "markdown",
   "metadata": {},
   "source": [
    "Importons tout d'abord les bibliothèques nécessaires à l'extraction des données sur Wikipedia."
   ]
  },
  {
   "cell_type": "code",
   "execution_count": 5,
   "metadata": {},
   "outputs": [],
   "source": [
    "import numpy as np\n",
    "import pandas as pd\n",
    "import matplotlib.pyplot as plt\n",
    "import seaborn as sns\n",
    "from bs4 import BeautifulSoup\n",
    "from tqdm import tqdm\n",
    "import re\n",
    "import requests"
   ]
  },
  {
   "cell_type": "markdown",
   "metadata": {},
   "source": [
    "Ensuite, connectons-nous sur la page \"Révolution (homonymie)\" pour tenter de récupérer une liste des diverses expressions différentes du terme \"révolution\" dans l'encyclopédie."
   ]
  },
  {
   "cell_type": "code",
   "execution_count": 2,
   "metadata": {},
   "outputs": [],
   "source": [
    "url = \"https://fr.wikipedia.org/wiki/R%C3%A9volution_(homonymie)\"\n",
    "base_url = \"https://fr.wikipedia.org\"\n",
    "r = requests.get(url)\n",
    "soup = BeautifulSoup(r.text, \"html5lib\")\n",
    "# Let's get the body of the article\n",
    "body = soup.find(\"div\", attrs={\"class\", \"mw-parser-output\"})\n",
    "# Get the list of h2\n",
    "h3 = body.find_all(\"h3\")"
   ]
  },
  {
   "cell_type": "markdown",
   "metadata": {},
   "source": [
    "Construisons maintenant le modèle de notre futur tableau de données."
   ]
  },
  {
   "cell_type": "code",
   "execution_count": 3,
   "metadata": {},
   "outputs": [],
   "source": [
    "links = {\"liens\": [],\n",
    "        \"nom_page\": []}"
   ]
  },
  {
   "cell_type": "markdown",
   "metadata": {},
   "source": [
    "A présent, passons à la récupération des données filtrées. On ne récupère que le titre et le lien vers chacun des pages rencontrées dans la page Wikipedia. Nous ferons un peu de nettoyage plus tard."
   ]
  },
  {
   "cell_type": "code",
   "execution_count": 4,
   "metadata": {},
   "outputs": [],
   "source": [
    "hrefs = body.find_all(\"a\")\n",
    "regex = re.compile(\"[Rr][ée]volution[s]?\")\n",
    "\n",
    "for l in hrefs:\n",
    "    try:\n",
    "        if re.match(regex, l[\"title\"]):\n",
    "            links[\"liens\"].append(base_url + l[\"href\"])\n",
    "            links[\"nom_page\"].append(l[\"title\"])\n",
    "    except:\n",
    "        pass"
   ]
  },
  {
   "cell_type": "markdown",
   "metadata": {},
   "source": [
    "A partir des données récupérées, on peut créer un tableau qui contiendra le nom des pages et les liens. Grâce à cela, on pourra récupérer le text intégral des pages Wikipedia qui nous intéressent."
   ]
  },
  {
   "cell_type": "code",
   "execution_count": 5,
   "metadata": {},
   "outputs": [],
   "source": [
    "df = pd.DataFrame(links)"
   ]
  },
  {
   "cell_type": "markdown",
   "metadata": {},
   "source": [
    "Ajoutons maintenant le texte intégral des pages web qui nous intéressent dans notre tableau."
   ]
  },
  {
   "cell_type": "code",
   "execution_count": 6,
   "metadata": {},
   "outputs": [],
   "source": [
    "full_text = []"
   ]
  },
  {
   "cell_type": "code",
   "execution_count": 7,
   "metadata": {},
   "outputs": [
    {
     "name": "stderr",
     "output_type": "stream",
     "text": [
      "76it [00:35,  2.17it/s]\n"
     ]
    }
   ],
   "source": [
    "for link in tqdm(df.iterrows()):\n",
    "    r = requests.get(link[1][\"liens\"])\n",
    "    soup = BeautifulSoup(r.text, \"html5lib\")\n",
    "    try:\n",
    "        body = soup.find(\"div\", attrs={\"class\", \"mw-content-container\"})\n",
    "        full_text.append(body.get_text())\n",
    "    except AttributeError:\n",
    "        full_text.append(soup.get_text())"
   ]
  },
  {
   "cell_type": "code",
   "execution_count": 8,
   "metadata": {},
   "outputs": [],
   "source": [
    "df[\"full_text\"] = full_text"
   ]
  },
  {
   "cell_type": "markdown",
   "metadata": {},
   "source": [
    "Nous pouvons maintenir exporter le résultat dans un tableau CSV."
   ]
  },
  {
   "cell_type": "code",
   "execution_count": 9,
   "metadata": {},
   "outputs": [],
   "source": [
    "df.to_csv(\"revolution.csv\", sep=\";\", encoding=\"utf-8\")"
   ]
  },
  {
   "cell_type": "markdown",
   "metadata": {},
   "source": [
    "Nous pouvons créer une fonction pour nettoyer les corpus."
   ]
  },
  {
   "cell_type": "code",
   "execution_count": 10,
   "metadata": {},
   "outputs": [
    {
     "data": {
      "text/html": [
       "<div>\n",
       "<style scoped>\n",
       "    .dataframe tbody tr th:only-of-type {\n",
       "        vertical-align: middle;\n",
       "    }\n",
       "\n",
       "    .dataframe tbody tr th {\n",
       "        vertical-align: top;\n",
       "    }\n",
       "\n",
       "    .dataframe thead th {\n",
       "        text-align: right;\n",
       "    }\n",
       "</style>\n",
       "<table border=\"1\" class=\"dataframe\">\n",
       "  <thead>\n",
       "    <tr style=\"text-align: right;\">\n",
       "      <th></th>\n",
       "      <th>liens</th>\n",
       "      <th>nom_page</th>\n",
       "      <th>full_text</th>\n",
       "    </tr>\n",
       "  </thead>\n",
       "  <tbody>\n",
       "    <tr>\n",
       "      <td>0</td>\n",
       "      <td>https://fr.wikipedia.org/wiki/R%C3%A9volution_...</td>\n",
       "      <td>Révolution industrielle</td>\n",
       "      <td>\\n\\n\\n\\t\\n\\t\\n\\t\\n\\t\\n\\tRévolution industriell...</td>\n",
       "    </tr>\n",
       "    <tr>\n",
       "      <td>1</td>\n",
       "      <td>https://fr.wikipedia.org/wiki/R%C3%A9volution_...</td>\n",
       "      <td>Révolution (politique et sociale)</td>\n",
       "      <td>\\n\\n\\n\\t\\n\\t\\n\\t\\n\\t\\n\\tRévolution\\n\\t\\n\\t\\tUn...</td>\n",
       "    </tr>\n",
       "    <tr>\n",
       "      <td>2</td>\n",
       "      <td>https://fr.wikipedia.org/wiki/R%C3%A9volution_...</td>\n",
       "      <td>Révolution sociale</td>\n",
       "      <td>\\n\\n\\n\\t\\n\\t\\n\\t\\n\\t\\n\\tRévolution sociale\\n\\t...</td>\n",
       "    </tr>\n",
       "    <tr>\n",
       "      <td>3</td>\n",
       "      <td>https://fr.wikipedia.org/wiki/R%C3%A9volution_...</td>\n",
       "      <td>Révolution néolithique</td>\n",
       "      <td>\\n\\n\\n\\t\\n\\t\\n\\t\\n\\t\\n\\tRévolution néolithique...</td>\n",
       "    </tr>\n",
       "    <tr>\n",
       "      <td>4</td>\n",
       "      <td>https://fr.wikipedia.org/wiki/R%C3%A9volution_...</td>\n",
       "      <td>Révolution agricole</td>\n",
       "      <td>\\n\\n\\n\\t\\n\\t\\n\\t\\n\\t\\n\\tRévolution agricole\\n\\...</td>\n",
       "    </tr>\n",
       "  </tbody>\n",
       "</table>\n",
       "</div>"
      ],
      "text/plain": [
       "                                               liens  \\\n",
       "0  https://fr.wikipedia.org/wiki/R%C3%A9volution_...   \n",
       "1  https://fr.wikipedia.org/wiki/R%C3%A9volution_...   \n",
       "2  https://fr.wikipedia.org/wiki/R%C3%A9volution_...   \n",
       "3  https://fr.wikipedia.org/wiki/R%C3%A9volution_...   \n",
       "4  https://fr.wikipedia.org/wiki/R%C3%A9volution_...   \n",
       "\n",
       "                            nom_page  \\\n",
       "0            Révolution industrielle   \n",
       "1  Révolution (politique et sociale)   \n",
       "2                 Révolution sociale   \n",
       "3             Révolution néolithique   \n",
       "4                Révolution agricole   \n",
       "\n",
       "                                           full_text  \n",
       "0  \\n\\n\\n\\t\\n\\t\\n\\t\\n\\t\\n\\tRévolution industriell...  \n",
       "1  \\n\\n\\n\\t\\n\\t\\n\\t\\n\\t\\n\\tRévolution\\n\\t\\n\\t\\tUn...  \n",
       "2  \\n\\n\\n\\t\\n\\t\\n\\t\\n\\t\\n\\tRévolution sociale\\n\\t...  \n",
       "3  \\n\\n\\n\\t\\n\\t\\n\\t\\n\\t\\n\\tRévolution néolithique...  \n",
       "4  \\n\\n\\n\\t\\n\\t\\n\\t\\n\\t\\n\\tRévolution agricole\\n\\...  "
      ]
     },
     "execution_count": 10,
     "metadata": {},
     "output_type": "execute_result"
    }
   ],
   "source": [
    "df.head()"
   ]
  },
  {
   "cell_type": "markdown",
   "metadata": {},
   "source": [
    "## 2. Nettoyage du corpus"
   ]
  },
  {
   "cell_type": "markdown",
   "metadata": {},
   "source": [
    "Nous récupérons un corpus de texte brut qu'il nous faut nettoyer avant de l'utiliser.\n",
    "\n",
    "Premièrement, retirons tous les \"grands\" caractères d'espacement (`\\n`, `\\t`)."
   ]
  },
  {
   "cell_type": "code",
   "execution_count": 18,
   "metadata": {},
   "outputs": [],
   "source": [
    "def remove_widespaces(text):\n",
    "    regex = re.compile(r\"\\n|\\t\")\n",
    "    text = re.sub(regex, \" \", text)\n",
    "    return text"
   ]
  },
  {
   "cell_type": "markdown",
   "metadata": {},
   "source": [
    "Ensuite, retirons les espaces non sécables."
   ]
  },
  {
   "cell_type": "code",
   "execution_count": 19,
   "metadata": {},
   "outputs": [],
   "source": [
    "def remove_nonbreaking_spaces(text):\n",
    "    regex = re.compile(r\"\\xa0\")\n",
    "    text = re.sub(regex, \" \", text)\n",
    "    return text"
   ]
  },
  {
   "cell_type": "markdown",
   "metadata": {},
   "source": [
    "Retirons maintenant les notes inscrites entre crochets."
   ]
  },
  {
   "cell_type": "code",
   "execution_count": 20,
   "metadata": {},
   "outputs": [],
   "source": [
    "def remove_notes(text):\n",
    "    regex = re.compile(r\"\\[*?\\]\")\n",
    "    text = re.sub(regex, \" \", text)\n",
    "    return text"
   ]
  },
  {
   "cell_type": "markdown",
   "metadata": {},
   "source": [
    "Ensuite, retirons des éléments de formatage de Wikipedia."
   ]
  },
  {
   "cell_type": "code",
   "execution_count": 21,
   "metadata": {},
   "outputs": [],
   "source": [
    "def remove_wikicode(text):\n",
    "    regex = re.compile(r\"\\[modifier | modifier le code\")\n",
    "    text = re.sub(regex, \" \", text)\n",
    "    return text"
   ]
  },
  {
   "cell_type": "markdown",
   "metadata": {},
   "source": [
    "Enfin, retirons les notes numérotées mal formatées."
   ]
  },
  {
   "cell_type": "code",
   "execution_count": 22,
   "metadata": {},
   "outputs": [],
   "source": [
    "def remove_num_notes(text):\n",
    "    regex = re.compile(r\"\\[\\d+\")\n",
    "    text = re.sub(regex, \" \", text)\n",
    "    return text"
   ]
  },
  {
   "cell_type": "markdown",
   "metadata": {},
   "source": [
    "Retirons également les barres obliques."
   ]
  },
  {
   "cell_type": "code",
   "execution_count": 23,
   "metadata": {},
   "outputs": [],
   "source": [
    "def remove_vertical(text):\n",
    "    regex = re.compile(r\"\\|\")\n",
    "    text = re.sub(regex, \" \", text)\n",
    "    return text"
   ]
  },
  {
   "cell_type": "markdown",
   "metadata": {},
   "source": [
    "Enfin, retirons les flèches verticales utilisées dans les notes de bas de page."
   ]
  },
  {
   "cell_type": "code",
   "execution_count": 24,
   "metadata": {},
   "outputs": [],
   "source": [
    "def remove_arrow(text):\n",
    "    regex = re.compile(r\"↑\")\n",
    "    text = re.sub(regex, \" \", text)\n",
    "    return text"
   ]
  },
  {
   "cell_type": "markdown",
   "metadata": {},
   "source": [
    "Appliquons toutes les fonctions de nettoyage sur le corpus."
   ]
  },
  {
   "cell_type": "code",
   "execution_count": 27,
   "metadata": {},
   "outputs": [],
   "source": [
    "for index, row in df.iterrows():\n",
    "    new_row = remove_arrow(remove_vertical(remove_num_notes(remove_wikicode(remove_notes(remove_nonbreaking_spaces(remove_widespaces(row[\"full_text\"])))))))\n",
    "    row[\"full_text\"] = new_row"
   ]
  },
  {
   "cell_type": "markdown",
   "metadata": {},
   "source": [
    "Exportons à présent le corpus nettoyé."
   ]
  },
  {
   "cell_type": "code",
   "execution_count": 78,
   "metadata": {},
   "outputs": [],
   "source": [
    "df.to_csv(\"revolution_clean.csv\", sep=\";\", encoding=\"utf-8\")"
   ]
  },
  {
   "cell_type": "markdown",
   "metadata": {},
   "source": [
    "Certains des éléments retenus dans le tableau pointent en réalité vers des pages Wikipedia en cours de création qui ne contiennent pas actuellement de contenu. Nous allons donc les retirer du corpus."
   ]
  },
  {
   "cell_type": "code",
   "execution_count": 79,
   "metadata": {},
   "outputs": [
    {
     "data": {
      "text/html": [
       "<div>\n",
       "<style scoped>\n",
       "    .dataframe tbody tr th:only-of-type {\n",
       "        vertical-align: middle;\n",
       "    }\n",
       "\n",
       "    .dataframe tbody tr th {\n",
       "        vertical-align: top;\n",
       "    }\n",
       "\n",
       "    .dataframe thead th {\n",
       "        text-align: right;\n",
       "    }\n",
       "</style>\n",
       "<table border=\"1\" class=\"dataframe\">\n",
       "  <thead>\n",
       "    <tr style=\"text-align: right;\">\n",
       "      <th></th>\n",
       "      <th>liens</th>\n",
       "      <th>nom_page</th>\n",
       "      <th>full_text</th>\n",
       "    </tr>\n",
       "  </thead>\n",
       "  <tbody>\n",
       "    <tr>\n",
       "      <th>26</th>\n",
       "      <td>https://fr.wikipedia.org/wiki/R%C3%A9volution_!</td>\n",
       "      <td>Révolution !</td>\n",
       "      <td>Révolution !     Un article de Wik...</td>\n",
       "    </tr>\n",
       "    <tr>\n",
       "      <th>37</th>\n",
       "      <td>https://fr.wikipedia.org/wiki/R%C3%A9volutions...</td>\n",
       "      <td>Révolutions (album)</td>\n",
       "      <td>Révolutions (album)     Un article...</td>\n",
       "    </tr>\n",
       "    <tr>\n",
       "      <th>36</th>\n",
       "      <td>https://fr.wikipedia.org/wiki/R%C3%A9volution_...</td>\n",
       "      <td>Révolution (Ève Angeli)</td>\n",
       "      <td>Révolution (album d'Ève Angeli)   ...</td>\n",
       "    </tr>\n",
       "    <tr>\n",
       "      <th>2</th>\n",
       "      <td>https://fr.wikipedia.org/wiki/R%C3%A9volution_...</td>\n",
       "      <td>Révolution sociale</td>\n",
       "      <td>Révolution sociale     Un article ...</td>\n",
       "    </tr>\n",
       "    <tr>\n",
       "      <th>16</th>\n",
       "      <td>https://fr.wikipedia.org/wiki/R%C3%A9volution_...</td>\n",
       "      <td>Révolution des Œillets</td>\n",
       "      <td>Révolution des Œillets     Un arti...</td>\n",
       "    </tr>\n",
       "    <tr>\n",
       "      <th>39</th>\n",
       "      <td>https://fr.wikipedia.org/wiki/Revolution_909</td>\n",
       "      <td>Revolution 909</td>\n",
       "      <td>Revolution 909     Un article de W...</td>\n",
       "    </tr>\n",
       "    <tr>\n",
       "      <th>14</th>\n",
       "      <td>https://fr.wikipedia.org/wiki/R%C3%A9volution_...</td>\n",
       "      <td>Révolution française de 1848</td>\n",
       "      <td>Révolution française de 1848     U...</td>\n",
       "    </tr>\n",
       "    <tr>\n",
       "      <th>23</th>\n",
       "      <td>https://fr.wikipedia.org/wiki/R%C3%A9volution_...</td>\n",
       "      <td>Révolution kirghize de 2010</td>\n",
       "      <td>Révolution kirghize de 2010     Un...</td>\n",
       "    </tr>\n",
       "    <tr>\n",
       "      <th>20</th>\n",
       "      <td>https://fr.wikipedia.org/wiki/R%C3%A9volution_...</td>\n",
       "      <td>Révolution des Roses</td>\n",
       "      <td>Révolution des Roses     Un articl...</td>\n",
       "    </tr>\n",
       "    <tr>\n",
       "      <th>34</th>\n",
       "      <td>https://fr.wikipedia.org/wiki/Revolution_X</td>\n",
       "      <td>Revolution X</td>\n",
       "      <td>Revolution X     Un article de Wik...</td>\n",
       "    </tr>\n",
       "  </tbody>\n",
       "</table>\n",
       "</div>"
      ],
      "text/plain": [
       "                                                liens  \\\n",
       "26    https://fr.wikipedia.org/wiki/R%C3%A9volution_!   \n",
       "37  https://fr.wikipedia.org/wiki/R%C3%A9volutions...   \n",
       "36  https://fr.wikipedia.org/wiki/R%C3%A9volution_...   \n",
       "2   https://fr.wikipedia.org/wiki/R%C3%A9volution_...   \n",
       "16  https://fr.wikipedia.org/wiki/R%C3%A9volution_...   \n",
       "39       https://fr.wikipedia.org/wiki/Revolution_909   \n",
       "14  https://fr.wikipedia.org/wiki/R%C3%A9volution_...   \n",
       "23  https://fr.wikipedia.org/wiki/R%C3%A9volution_...   \n",
       "20  https://fr.wikipedia.org/wiki/R%C3%A9volution_...   \n",
       "34         https://fr.wikipedia.org/wiki/Revolution_X   \n",
       "\n",
       "                        nom_page  \\\n",
       "26                  Révolution !   \n",
       "37           Révolutions (album)   \n",
       "36       Révolution (Ève Angeli)   \n",
       "2             Révolution sociale   \n",
       "16        Révolution des Œillets   \n",
       "39                Revolution 909   \n",
       "14  Révolution française de 1848   \n",
       "23   Révolution kirghize de 2010   \n",
       "20          Révolution des Roses   \n",
       "34                  Revolution X   \n",
       "\n",
       "                                            full_text  \n",
       "26              Révolution !     Un article de Wik...  \n",
       "37              Révolutions (album)     Un article...  \n",
       "36              Révolution (album d'Ève Angeli)   ...  \n",
       "2               Révolution sociale     Un article ...  \n",
       "16              Révolution des Œillets     Un arti...  \n",
       "39              Revolution 909     Un article de W...  \n",
       "14              Révolution française de 1848     U...  \n",
       "23              Révolution kirghize de 2010     Un...  \n",
       "20              Révolution des Roses     Un articl...  \n",
       "34              Revolution X     Un article de Wik...  "
      ]
     },
     "execution_count": 79,
     "metadata": {},
     "output_type": "execute_result"
    }
   ],
   "source": [
    "df = pd.read_csv(\"revolution_clean.csv\", sep=\";\", encoding=\"utf8\")\n",
    "df.drop(columns=[\"Unnamed: 0\"], inplace=True)"
   ]
  },
  {
   "cell_type": "code",
   "execution_count": 76,
   "metadata": {},
   "outputs": [
    {
     "data": {
      "text/html": [
       "<div>\n",
       "<style scoped>\n",
       "    .dataframe tbody tr th:only-of-type {\n",
       "        vertical-align: middle;\n",
       "    }\n",
       "\n",
       "    .dataframe tbody tr th {\n",
       "        vertical-align: top;\n",
       "    }\n",
       "\n",
       "    .dataframe thead th {\n",
       "        text-align: right;\n",
       "    }\n",
       "</style>\n",
       "<table border=\"1\" class=\"dataframe\">\n",
       "  <thead>\n",
       "    <tr style=\"text-align: right;\">\n",
       "      <th></th>\n",
       "      <th>liens</th>\n",
       "      <th>nom_page</th>\n",
       "      <th>full_text</th>\n",
       "    </tr>\n",
       "  </thead>\n",
       "  <tbody>\n",
       "    <tr>\n",
       "      <th>0</th>\n",
       "      <td>https://fr.wikipedia.org/wiki/R%C3%A9volution_...</td>\n",
       "      <td>Révolution industrielle</td>\n",
       "      <td>Révolution industrielle     Un art...</td>\n",
       "    </tr>\n",
       "    <tr>\n",
       "      <th>1</th>\n",
       "      <td>https://fr.wikipedia.org/wiki/R%C3%A9volution_...</td>\n",
       "      <td>Révolution (politique et sociale)</td>\n",
       "      <td>Révolution     Un article de Wikip...</td>\n",
       "    </tr>\n",
       "    <tr>\n",
       "      <th>2</th>\n",
       "      <td>https://fr.wikipedia.org/wiki/R%C3%A9volution_...</td>\n",
       "      <td>Révolution sociale</td>\n",
       "      <td>Révolution sociale     Un article ...</td>\n",
       "    </tr>\n",
       "    <tr>\n",
       "      <th>3</th>\n",
       "      <td>https://fr.wikipedia.org/wiki/R%C3%A9volution_...</td>\n",
       "      <td>Révolution néolithique</td>\n",
       "      <td>Révolution néolithique     Un arti...</td>\n",
       "    </tr>\n",
       "    <tr>\n",
       "      <th>4</th>\n",
       "      <td>https://fr.wikipedia.org/wiki/R%C3%A9volution_...</td>\n",
       "      <td>Révolution agricole</td>\n",
       "      <td>Révolution agricole     Un article...</td>\n",
       "    </tr>\n",
       "    <tr>\n",
       "      <th>5</th>\n",
       "      <td>https://fr.wikipedia.org/wiki/R%C3%A9volution_...</td>\n",
       "      <td>Révolution verte</td>\n",
       "      <td>Révolution verte     Un article de...</td>\n",
       "    </tr>\n",
       "    <tr>\n",
       "      <th>6</th>\n",
       "      <td>https://fr.wikipedia.org/wiki/R%C3%A9volution_...</td>\n",
       "      <td>Révolution scientifique</td>\n",
       "      <td>Révolution scientifique     Un art...</td>\n",
       "    </tr>\n",
       "    <tr>\n",
       "      <th>7</th>\n",
       "      <td>https://fr.wikipedia.org/wiki/R%C3%A9volution_...</td>\n",
       "      <td>Révolution copernicienne</td>\n",
       "      <td>Révolution copernicienne     Un ar...</td>\n",
       "    </tr>\n",
       "    <tr>\n",
       "      <th>8</th>\n",
       "      <td>https://fr.wikipedia.org/wiki/R%C3%A9volution_...</td>\n",
       "      <td>Révolution industrielle</td>\n",
       "      <td>Révolution industrielle     Un art...</td>\n",
       "    </tr>\n",
       "    <tr>\n",
       "      <th>9</th>\n",
       "      <td>https://fr.wikipedia.org/wiki/R%C3%A9volution_...</td>\n",
       "      <td>Révolution sexuelle</td>\n",
       "      <td>Révolution sexuelle     Un article...</td>\n",
       "    </tr>\n",
       "    <tr>\n",
       "      <th>10</th>\n",
       "      <td>https://fr.wikipedia.org/wiki/R%C3%A9volution_...</td>\n",
       "      <td>Révolution numérique</td>\n",
       "      <td>Révolution numérique     Un articl...</td>\n",
       "    </tr>\n",
       "    <tr>\n",
       "      <th>11</th>\n",
       "      <td>https://fr.wikipedia.org/wiki/R%C3%A9volution_...</td>\n",
       "      <td>Révolution culturelle</td>\n",
       "      <td>Révolution culturelle     Un artic...</td>\n",
       "    </tr>\n",
       "    <tr>\n",
       "      <th>12</th>\n",
       "      <td>https://fr.wikipedia.org/wiki/R%C3%A9volution_...</td>\n",
       "      <td>Révolution américaine</td>\n",
       "      <td>Révolution américaine     Un artic...</td>\n",
       "    </tr>\n",
       "    <tr>\n",
       "      <th>13</th>\n",
       "      <td>https://fr.wikipedia.org/wiki/R%C3%A9volution_...</td>\n",
       "      <td>Révolution française</td>\n",
       "      <td>Révolution française     Un articl...</td>\n",
       "    </tr>\n",
       "    <tr>\n",
       "      <th>14</th>\n",
       "      <td>https://fr.wikipedia.org/wiki/R%C3%A9volution_...</td>\n",
       "      <td>Révolution française de 1848</td>\n",
       "      <td>Révolution française de 1848     U...</td>\n",
       "    </tr>\n",
       "    <tr>\n",
       "      <th>15</th>\n",
       "      <td>https://fr.wikipedia.org/wiki/R%C3%A9volution_...</td>\n",
       "      <td>Révolution du Cèdre</td>\n",
       "      <td>Révolution du Cèdre     Un article...</td>\n",
       "    </tr>\n",
       "    <tr>\n",
       "      <th>16</th>\n",
       "      <td>https://fr.wikipedia.org/wiki/R%C3%A9volution_...</td>\n",
       "      <td>Révolution des Œillets</td>\n",
       "      <td>Révolution des Œillets     Un arti...</td>\n",
       "    </tr>\n",
       "    <tr>\n",
       "      <th>17</th>\n",
       "      <td>https://fr.wikipedia.org/wiki/R%C3%A9volution_...</td>\n",
       "      <td>Révolution tranquille</td>\n",
       "      <td>Révolution tranquille     Un artic...</td>\n",
       "    </tr>\n",
       "    <tr>\n",
       "      <th>18</th>\n",
       "      <td>https://fr.wikipedia.org/wiki/R%C3%A9volution_...</td>\n",
       "      <td>Révolution russe</td>\n",
       "      <td>Révolution russe     Un article ...</td>\n",
       "    </tr>\n",
       "    <tr>\n",
       "      <th>19</th>\n",
       "      <td>https://fr.wikipedia.org/wiki/R%C3%A9volutions...</td>\n",
       "      <td>Révolutions de couleur</td>\n",
       "      <td>Révolutions de couleur     Un arti...</td>\n",
       "    </tr>\n",
       "    <tr>\n",
       "      <th>20</th>\n",
       "      <td>https://fr.wikipedia.org/wiki/R%C3%A9volution_...</td>\n",
       "      <td>Révolution des Roses</td>\n",
       "      <td>Révolution des Roses     Un articl...</td>\n",
       "    </tr>\n",
       "    <tr>\n",
       "      <th>21</th>\n",
       "      <td>https://fr.wikipedia.org/wiki/R%C3%A9volution_...</td>\n",
       "      <td>Révolution orange</td>\n",
       "      <td>Révolution orange     Un article d...</td>\n",
       "    </tr>\n",
       "    <tr>\n",
       "      <th>22</th>\n",
       "      <td>https://fr.wikipedia.org/wiki/R%C3%A9volution_...</td>\n",
       "      <td>Révolution des Tulipes</td>\n",
       "      <td>Révolution des Tulipes     Un arti...</td>\n",
       "    </tr>\n",
       "    <tr>\n",
       "      <th>23</th>\n",
       "      <td>https://fr.wikipedia.org/wiki/R%C3%A9volution_...</td>\n",
       "      <td>Révolution kirghize de 2010</td>\n",
       "      <td>Révolution kirghize de 2010     Un...</td>\n",
       "    </tr>\n",
       "    <tr>\n",
       "      <th>24</th>\n",
       "      <td>https://fr.wikipedia.org/wiki/R%C3%A9volution_...</td>\n",
       "      <td>Révolution de velours</td>\n",
       "      <td>Révolution de Velours     Un artic...</td>\n",
       "    </tr>\n",
       "    <tr>\n",
       "      <th>25</th>\n",
       "      <td>https://fr.wikipedia.org/wiki/R%C3%A9volution_...</td>\n",
       "      <td>Révolution tunisienne de 2010-2011</td>\n",
       "      <td>Révolution tunisienne     Un artic...</td>\n",
       "    </tr>\n",
       "    <tr>\n",
       "      <th>26</th>\n",
       "      <td>https://fr.wikipedia.org/wiki/R%C3%A9volution_!</td>\n",
       "      <td>Révolution !</td>\n",
       "      <td>Révolution !     Un article de Wik...</td>\n",
       "    </tr>\n",
       "    <tr>\n",
       "      <th>27</th>\n",
       "      <td>https://fr.wikipedia.org/wiki/R%C3%A9volution_...</td>\n",
       "      <td>Révolution (revue de Jacques Vergès)</td>\n",
       "      <td>Révolution (revue de Jacques Vergè...</td>\n",
       "    </tr>\n",
       "    <tr>\n",
       "      <th>28</th>\n",
       "      <td>https://fr.wikipedia.org/wiki/R%C3%A9volution_...</td>\n",
       "      <td>Révolution (hebdomadaire)</td>\n",
       "      <td>Révolution (hebdomadaire)     Un a...</td>\n",
       "    </tr>\n",
       "    <tr>\n",
       "      <th>29</th>\n",
       "      <td>https://fr.wikipedia.org/wiki/R%C3%A9volutions...</td>\n",
       "      <td>Révolutions (roman)</td>\n",
       "      <td>Révolutions (roman)     Un article...</td>\n",
       "    </tr>\n",
       "    <tr>\n",
       "      <th>30</th>\n",
       "      <td>https://fr.wikipedia.org/wiki/R%C3%A9volution_...</td>\n",
       "      <td>Révolution (essai)</td>\n",
       "      <td>Révolution (essai)     Un article ...</td>\n",
       "    </tr>\n",
       "    <tr>\n",
       "      <th>32</th>\n",
       "      <td>https://fr.wikipedia.org/wiki/Revolution_(film...</td>\n",
       "      <td>Revolution (film, 1985)</td>\n",
       "      <td>Revolution (film, 1985)     Un art...</td>\n",
       "    </tr>\n",
       "    <tr>\n",
       "      <th>34</th>\n",
       "      <td>https://fr.wikipedia.org/wiki/Revolution_(film...</td>\n",
       "      <td>Revolution (film, 2009)</td>\n",
       "      <td>Revolution (film, 2009)     Un art...</td>\n",
       "    </tr>\n",
       "    <tr>\n",
       "      <th>36</th>\n",
       "      <td>https://fr.wikipedia.org/wiki/Revolution_(s%C3...</td>\n",
       "      <td>Revolution (série télévisée)</td>\n",
       "      <td>Revolution (série télévisée)     U...</td>\n",
       "    </tr>\n",
       "    <tr>\n",
       "      <th>39</th>\n",
       "      <td>https://fr.wikipedia.org/wiki/Revolution_X</td>\n",
       "      <td>Revolution X</td>\n",
       "      <td>Revolution X     Un article de Wik...</td>\n",
       "    </tr>\n",
       "    <tr>\n",
       "      <th>40</th>\n",
       "      <td>https://fr.wikipedia.org/wiki/Revolution_(Plea...</td>\n",
       "      <td>Revolution (Pleasure Beach, Blackpool)</td>\n",
       "      <td>53° 47′ 24″ N, 3° 03′ 19″ O    Revol...</td>\n",
       "    </tr>\n",
       "    <tr>\n",
       "      <th>43</th>\n",
       "      <td>https://fr.wikipedia.org/wiki/R%C3%A9volution_...</td>\n",
       "      <td>Révolution (Ève Angeli)</td>\n",
       "      <td>Révolution (album d'Ève Angeli)   ...</td>\n",
       "    </tr>\n",
       "    <tr>\n",
       "      <th>44</th>\n",
       "      <td>https://fr.wikipedia.org/wiki/R%C3%A9volutions...</td>\n",
       "      <td>Révolutions (album)</td>\n",
       "      <td>Révolutions (album)     Un article...</td>\n",
       "    </tr>\n",
       "    <tr>\n",
       "      <th>53</th>\n",
       "      <td>https://fr.wikipedia.org/wiki/Revolution_(albu...</td>\n",
       "      <td>Revolution (album de Sirsy)</td>\n",
       "      <td>Revolution (album de Sirsy)     Un...</td>\n",
       "    </tr>\n",
       "    <tr>\n",
       "      <th>59</th>\n",
       "      <td>https://fr.wikipedia.org/wiki/Revolution_909</td>\n",
       "      <td>Revolution 909</td>\n",
       "      <td>Revolution 909     Un article de W...</td>\n",
       "    </tr>\n",
       "    <tr>\n",
       "      <th>60</th>\n",
       "      <td>https://fr.wikipedia.org/wiki/Revolution_(chan...</td>\n",
       "      <td>Revolution (chanson)</td>\n",
       "      <td>Revolution (chanson)     Un articl...</td>\n",
       "    </tr>\n",
       "    <tr>\n",
       "      <th>61</th>\n",
       "      <td>https://fr.wikipedia.org/wiki/Revolution_(chan...</td>\n",
       "      <td>Revolution (chanson)</td>\n",
       "      <td>Revolution (chanson)     Un articl...</td>\n",
       "    </tr>\n",
       "    <tr>\n",
       "      <th>62</th>\n",
       "      <td>https://fr.wikipedia.org/wiki/Revolution_(chan...</td>\n",
       "      <td>Revolution (chanson)</td>\n",
       "      <td>Revolution (chanson)     Un articl...</td>\n",
       "    </tr>\n",
       "    <tr>\n",
       "      <th>63</th>\n",
       "      <td>https://fr.wikipedia.org/wiki/Revolution_9</td>\n",
       "      <td>Revolution 9</td>\n",
       "      <td>Revolution 9     Un article de Wik...</td>\n",
       "    </tr>\n",
       "    <tr>\n",
       "      <th>73</th>\n",
       "      <td>https://fr.wikipedia.org/wiki/Revolution_(catch)</td>\n",
       "      <td>Revolution (catch)</td>\n",
       "      <td>Revolution (catch)     Un article ...</td>\n",
       "    </tr>\n",
       "    <tr>\n",
       "      <th>74</th>\n",
       "      <td>https://fr.wikipedia.org/wiki/R%C3%A9volutionn...</td>\n",
       "      <td>Révolutionnaire (homonymie)</td>\n",
       "      <td>Révolutionnaire (homonymie)     Un...</td>\n",
       "    </tr>\n",
       "    <tr>\n",
       "      <th>75</th>\n",
       "      <td>https://fr.wikipedia.org/wiki/R%C3%A9volutionn...</td>\n",
       "      <td>Révolutionnaire (homonymie)</td>\n",
       "      <td>Révolutionnaire (homonymie)     Un...</td>\n",
       "    </tr>\n",
       "  </tbody>\n",
       "</table>\n",
       "</div>"
      ],
      "text/plain": [
       "                                                liens  \\\n",
       "0   https://fr.wikipedia.org/wiki/R%C3%A9volution_...   \n",
       "1   https://fr.wikipedia.org/wiki/R%C3%A9volution_...   \n",
       "2   https://fr.wikipedia.org/wiki/R%C3%A9volution_...   \n",
       "3   https://fr.wikipedia.org/wiki/R%C3%A9volution_...   \n",
       "4   https://fr.wikipedia.org/wiki/R%C3%A9volution_...   \n",
       "5   https://fr.wikipedia.org/wiki/R%C3%A9volution_...   \n",
       "6   https://fr.wikipedia.org/wiki/R%C3%A9volution_...   \n",
       "7   https://fr.wikipedia.org/wiki/R%C3%A9volution_...   \n",
       "8   https://fr.wikipedia.org/wiki/R%C3%A9volution_...   \n",
       "9   https://fr.wikipedia.org/wiki/R%C3%A9volution_...   \n",
       "10  https://fr.wikipedia.org/wiki/R%C3%A9volution_...   \n",
       "11  https://fr.wikipedia.org/wiki/R%C3%A9volution_...   \n",
       "12  https://fr.wikipedia.org/wiki/R%C3%A9volution_...   \n",
       "13  https://fr.wikipedia.org/wiki/R%C3%A9volution_...   \n",
       "14  https://fr.wikipedia.org/wiki/R%C3%A9volution_...   \n",
       "15  https://fr.wikipedia.org/wiki/R%C3%A9volution_...   \n",
       "16  https://fr.wikipedia.org/wiki/R%C3%A9volution_...   \n",
       "17  https://fr.wikipedia.org/wiki/R%C3%A9volution_...   \n",
       "18  https://fr.wikipedia.org/wiki/R%C3%A9volution_...   \n",
       "19  https://fr.wikipedia.org/wiki/R%C3%A9volutions...   \n",
       "20  https://fr.wikipedia.org/wiki/R%C3%A9volution_...   \n",
       "21  https://fr.wikipedia.org/wiki/R%C3%A9volution_...   \n",
       "22  https://fr.wikipedia.org/wiki/R%C3%A9volution_...   \n",
       "23  https://fr.wikipedia.org/wiki/R%C3%A9volution_...   \n",
       "24  https://fr.wikipedia.org/wiki/R%C3%A9volution_...   \n",
       "25  https://fr.wikipedia.org/wiki/R%C3%A9volution_...   \n",
       "26    https://fr.wikipedia.org/wiki/R%C3%A9volution_!   \n",
       "27  https://fr.wikipedia.org/wiki/R%C3%A9volution_...   \n",
       "28  https://fr.wikipedia.org/wiki/R%C3%A9volution_...   \n",
       "29  https://fr.wikipedia.org/wiki/R%C3%A9volutions...   \n",
       "30  https://fr.wikipedia.org/wiki/R%C3%A9volution_...   \n",
       "32  https://fr.wikipedia.org/wiki/Revolution_(film...   \n",
       "34  https://fr.wikipedia.org/wiki/Revolution_(film...   \n",
       "36  https://fr.wikipedia.org/wiki/Revolution_(s%C3...   \n",
       "39         https://fr.wikipedia.org/wiki/Revolution_X   \n",
       "40  https://fr.wikipedia.org/wiki/Revolution_(Plea...   \n",
       "43  https://fr.wikipedia.org/wiki/R%C3%A9volution_...   \n",
       "44  https://fr.wikipedia.org/wiki/R%C3%A9volutions...   \n",
       "53  https://fr.wikipedia.org/wiki/Revolution_(albu...   \n",
       "59       https://fr.wikipedia.org/wiki/Revolution_909   \n",
       "60  https://fr.wikipedia.org/wiki/Revolution_(chan...   \n",
       "61  https://fr.wikipedia.org/wiki/Revolution_(chan...   \n",
       "62  https://fr.wikipedia.org/wiki/Revolution_(chan...   \n",
       "63         https://fr.wikipedia.org/wiki/Revolution_9   \n",
       "73   https://fr.wikipedia.org/wiki/Revolution_(catch)   \n",
       "74  https://fr.wikipedia.org/wiki/R%C3%A9volutionn...   \n",
       "75  https://fr.wikipedia.org/wiki/R%C3%A9volutionn...   \n",
       "\n",
       "                                  nom_page  \\\n",
       "0                  Révolution industrielle   \n",
       "1        Révolution (politique et sociale)   \n",
       "2                       Révolution sociale   \n",
       "3                   Révolution néolithique   \n",
       "4                      Révolution agricole   \n",
       "5                         Révolution verte   \n",
       "6                  Révolution scientifique   \n",
       "7                 Révolution copernicienne   \n",
       "8                  Révolution industrielle   \n",
       "9                      Révolution sexuelle   \n",
       "10                    Révolution numérique   \n",
       "11                   Révolution culturelle   \n",
       "12                   Révolution américaine   \n",
       "13                    Révolution française   \n",
       "14            Révolution française de 1848   \n",
       "15                     Révolution du Cèdre   \n",
       "16                  Révolution des Œillets   \n",
       "17                   Révolution tranquille   \n",
       "18                        Révolution russe   \n",
       "19                  Révolutions de couleur   \n",
       "20                    Révolution des Roses   \n",
       "21                       Révolution orange   \n",
       "22                  Révolution des Tulipes   \n",
       "23             Révolution kirghize de 2010   \n",
       "24                   Révolution de velours   \n",
       "25      Révolution tunisienne de 2010-2011   \n",
       "26                            Révolution !   \n",
       "27    Révolution (revue de Jacques Vergès)   \n",
       "28               Révolution (hebdomadaire)   \n",
       "29                     Révolutions (roman)   \n",
       "30                      Révolution (essai)   \n",
       "32                 Revolution (film, 1985)   \n",
       "34                 Revolution (film, 2009)   \n",
       "36            Revolution (série télévisée)   \n",
       "39                            Revolution X   \n",
       "40  Revolution (Pleasure Beach, Blackpool)   \n",
       "43                 Révolution (Ève Angeli)   \n",
       "44                     Révolutions (album)   \n",
       "53             Revolution (album de Sirsy)   \n",
       "59                          Revolution 909   \n",
       "60                    Revolution (chanson)   \n",
       "61                    Revolution (chanson)   \n",
       "62                    Revolution (chanson)   \n",
       "63                            Revolution 9   \n",
       "73                      Revolution (catch)   \n",
       "74             Révolutionnaire (homonymie)   \n",
       "75             Révolutionnaire (homonymie)   \n",
       "\n",
       "                                            full_text  \n",
       "0               Révolution industrielle     Un art...  \n",
       "1               Révolution     Un article de Wikip...  \n",
       "2               Révolution sociale     Un article ...  \n",
       "3               Révolution néolithique     Un arti...  \n",
       "4               Révolution agricole     Un article...  \n",
       "5               Révolution verte     Un article de...  \n",
       "6               Révolution scientifique     Un art...  \n",
       "7               Révolution copernicienne     Un ar...  \n",
       "8               Révolution industrielle     Un art...  \n",
       "9               Révolution sexuelle     Un article...  \n",
       "10              Révolution numérique     Un articl...  \n",
       "11              Révolution culturelle     Un artic...  \n",
       "12              Révolution américaine     Un artic...  \n",
       "13              Révolution française     Un articl...  \n",
       "14              Révolution française de 1848     U...  \n",
       "15              Révolution du Cèdre     Un article...  \n",
       "16              Révolution des Œillets     Un arti...  \n",
       "17              Révolution tranquille     Un artic...  \n",
       "18                Révolution russe     Un article ...  \n",
       "19              Révolutions de couleur     Un arti...  \n",
       "20              Révolution des Roses     Un articl...  \n",
       "21              Révolution orange     Un article d...  \n",
       "22              Révolution des Tulipes     Un arti...  \n",
       "23              Révolution kirghize de 2010     Un...  \n",
       "24              Révolution de Velours     Un artic...  \n",
       "25              Révolution tunisienne     Un artic...  \n",
       "26              Révolution !     Un article de Wik...  \n",
       "27              Révolution (revue de Jacques Vergè...  \n",
       "28              Révolution (hebdomadaire)     Un a...  \n",
       "29              Révolutions (roman)     Un article...  \n",
       "30              Révolution (essai)     Un article ...  \n",
       "32              Revolution (film, 1985)     Un art...  \n",
       "34              Revolution (film, 2009)     Un art...  \n",
       "36              Revolution (série télévisée)     U...  \n",
       "39              Revolution X     Un article de Wik...  \n",
       "40            53° 47′ 24″ N, 3° 03′ 19″ O    Revol...  \n",
       "43              Révolution (album d'Ève Angeli)   ...  \n",
       "44              Révolutions (album)     Un article...  \n",
       "53              Revolution (album de Sirsy)     Un...  \n",
       "59              Revolution 909     Un article de W...  \n",
       "60              Revolution (chanson)     Un articl...  \n",
       "61              Revolution (chanson)     Un articl...  \n",
       "62              Revolution (chanson)     Un articl...  \n",
       "63              Revolution 9     Un article de Wik...  \n",
       "73              Revolution (catch)     Un article ...  \n",
       "74              Révolutionnaire (homonymie)     Un...  \n",
       "75              Révolutionnaire (homonymie)     Un...  "
      ]
     },
     "execution_count": 76,
     "metadata": {},
     "output_type": "execute_result"
    }
   ],
   "source": [
    "for index, row in df.iterrows():\n",
    "    if \"page inexistante\" in row[\"nom_page\"]:\n",
    "        df.drop([index], inplace=True)\n",
    "df"
   ]
  },
  {
   "cell_type": "code",
   "execution_count": 81,
   "metadata": {},
   "outputs": [],
   "source": [
    "df.to_csv(\"revolution_clean.csv\", sep=\";\", encoding=\"utf-8\")"
   ]
  },
  {
   "cell_type": "markdown",
   "metadata": {},
   "source": [
    "## 3. Préparation du corpus pour Iramuteq"
   ]
  },
  {
   "cell_type": "code",
   "execution_count": 1,
   "metadata": {},
   "outputs": [],
   "source": [
    "import pandas as pd"
   ]
  },
  {
   "cell_type": "markdown",
   "metadata": {},
   "source": [
    "Importons le tableau contenant toutes les données et les corpus pour ne pas avoir à reproduire toute la procédure à chaque fois que l'on veut faire un nouvel export texte du corpus Wikipedia."
   ]
  },
  {
   "cell_type": "code",
   "execution_count": 2,
   "metadata": {},
   "outputs": [],
   "source": [
    "df_clean = pd.read_csv(\"revolution_clean.csv\", sep=\";\", encoding=\"utf-8\")"
   ]
  },
  {
   "cell_type": "markdown",
   "metadata": {},
   "source": [
    "Ajoutons ici les variables en en-tête de chaque texte du corpus et préparons-le pour l'export en .txt pour l'analyse Iramuteq."
   ]
  },
  {
   "cell_type": "code",
   "execution_count": 3,
   "metadata": {},
   "outputs": [],
   "source": [
    "title = []\n",
    "full_text = []\n",
    "\n",
    "for index, row in df_clean.iterrows():\n",
    "    title_nospace = row[\"nom_page\"].replace(\" \", \"-\").replace(\"é\", \"e\")\n",
    "    title.append(title_nospace)\n",
    "    full_text.append(row[\"full_text\"])\n",
    "\n",
    "\n",
    "with open(\"corpus/corpus_revolution_iramuteq.txt\", \"w\", encoding=\"utf-8\") as file:\n",
    "    for t, f in zip(title, full_text):\n",
    "        \n",
    "        file.write(f\"**** *titre_{t} \\n\\n {f} \\n\\n\")"
   ]
  },
  {
   "cell_type": "markdown",
   "metadata": {},
   "source": [
    "## 4. Analyse exploratoire"
   ]
  },
  {
   "cell_type": "markdown",
   "metadata": {},
   "source": [
    "Pour tenir compte de la spécificité de chaque texte, explorons quelques éléments statistiques sur ce corpus."
   ]
  },
  {
   "cell_type": "code",
   "execution_count": 6,
   "metadata": {},
   "outputs": [],
   "source": [
    "len_article = []\n",
    "nom_page = []\n",
    "\n",
    "for i in range(0, len(df_clean)):\n",
    "    len_article.append(len(df_clean.at[i, \"full_text\"]))\n",
    "    nom_page.append(df_clean.at[i, \"nom_page\"])"
   ]
  },
  {
   "cell_type": "markdown",
   "metadata": {},
   "source": [
    "Voyons tout d'abord quel est l'article le plus long."
   ]
  },
  {
   "cell_type": "code",
   "execution_count": 7,
   "metadata": {},
   "outputs": [
    {
     "name": "stdout",
     "output_type": "stream",
     "text": [
      "181437\n",
      "Révolution française\n"
     ]
    }
   ],
   "source": [
    "print(np.array(len_article).max())\n",
    "print(nom_page[13])"
   ]
  },
  {
   "cell_type": "markdown",
   "metadata": {},
   "source": [
    "Sans trop de surprise, il s'agit de l'article traitant de la Révolution française qui est le plus long."
   ]
  },
  {
   "cell_type": "markdown",
   "metadata": {},
   "source": [
    "Ajoutons la longueur de chaque texte à notre tableau de données."
   ]
  },
  {
   "cell_type": "code",
   "execution_count": 8,
   "metadata": {},
   "outputs": [],
   "source": [
    "df_clean[\"len_article\"] = len_article"
   ]
  },
  {
   "cell_type": "markdown",
   "metadata": {},
   "source": [
    "A présent, on peut trier notre tableau de données en fonction de la taille de chaque texte."
   ]
  },
  {
   "cell_type": "code",
   "execution_count": 9,
   "metadata": {},
   "outputs": [],
   "source": [
    "df_len = df_clean.sort_values(\"len_article\", ascending=False)"
   ]
  },
  {
   "cell_type": "code",
   "execution_count": 10,
   "metadata": {},
   "outputs": [
    {
     "data": {
      "image/png": "[encoded data removed]",
      "text/plain": [
       "<Figure size 3600x1080 with 1 Axes>"
      ]
     },
     "metadata": {},
     "output_type": "display_data"
    }
   ],
   "source": [
    "sns.set_theme(context=\"notebook\", style=\"darkgrid\")\n",
    "plot = sns.catplot(data=df_len, y=df_len[\"nom_page\"], x=df_len[\"len_article\"], kind=\"bar\")\n",
    "plot.fig.set_figwidth(50)\n",
    "plot.fig.set_figheight(15)\n",
    "plot.set_xlabels(\"Nombre de caractères\", size=18)\n",
    "plot.set_ylabels(\"Articles\", size=18)\n",
    "plot.set_xticklabels(rotation=90)\n",
    "plot.savefig(\"len_article.png\")"
   ]
  }
 ],
 "metadata": {
  "kernelspec": {
   "display_name": "Python 3",
   "language": "python",
   "name": "python3"
  },
  "language_info": {
   "codemirror_mode": {
    "name": "ipython",
    "version": 3
   },
   "file_extension": ".py",
   "mimetype": "text/x-python",
   "name": "python",
   "nbconvert_exporter": "python",
   "pygments_lexer": "ipython3",
   "version": "3.7.6"
  }
 },
 "nbformat": 4,
 "nbformat_minor": 4
}
