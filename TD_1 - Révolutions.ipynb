{
 "cells": [
  {
   "cell_type": "markdown",
   "metadata": {},
   "source": [
    "# TD 1 - Révolutions : Explorations du terme à partir de Wikipedia"
   ]
  },
  {
   "cell_type": "markdown",
   "metadata": {},
   "source": [
    "## 1. Extraire le corpus"
   ]
  },
  {
   "cell_type": "markdown",
   "metadata": {},
   "source": [
    "Importons tout d'abord les bibliothèques nécessaires à l'extraction des données sur Wikipedia."
   ]
  },
  {
   "cell_type": "code",
   "execution_count": 1,
   "metadata": {},
   "outputs": [],
   "source": [
    "from bs4 import BeautifulSoup\n",
    "from tqdm import tqdm\n",
    "import pandas as pd\n",
    "import re\n",
    "import requests"
   ]
  },
  {
   "cell_type": "markdown",
   "metadata": {},
   "source": [
    "Ensuite, connectons-nous sur la page \"Révolution (homonymie)\" pour tenter de récupérer une liste des diverses expressions différentes du terme \"révolution\" dans l'encyclopédie."
   ]
  },
  {
   "cell_type": "code",
   "execution_count": 2,
   "metadata": {},
   "outputs": [],
   "source": [
    "url = \"https://fr.wikipedia.org/wiki/R%C3%A9volution_(homonymie)\"\n",
    "base_url = \"https://fr.wikipedia.org\"\n",
    "r = requests.get(url)\n",
    "soup = BeautifulSoup(r.text, \"html5lib\")\n",
    "# Let's get the body of the article\n",
    "body = soup.find(\"div\", attrs={\"class\", \"mw-parser-output\"})\n",
    "# Get the list of h2\n",
    "h3 = body.find_all(\"h3\")"
   ]
  },
  {
   "cell_type": "markdown",
   "metadata": {},
   "source": [
    "Construisons maintenant le modèle de notre futur tableau de données."
   ]
  },
  {
   "cell_type": "code",
   "execution_count": 3,
   "metadata": {},
   "outputs": [],
   "source": [
    "links = {\"liens\": [],\n",
    "        \"nom_page\": []}"
   ]
  },
  {
   "cell_type": "markdown",
   "metadata": {},
   "source": [
    "A présent, passons à la récupération des données filtrées. On ne récupère que le titre et le lien vers chacun des pages rencontrées dans la page Wikipedia. Nous ferons un peu de nettoyage plus tard."
   ]
  },
  {
   "cell_type": "code",
   "execution_count": 4,
   "metadata": {},
   "outputs": [],
   "source": [
    "hrefs = body.find_all(\"a\")\n",
    "regex = re.compile(\"[Rr][ée]volution[s]?\")\n",
    "\n",
    "for l in hrefs:\n",
    "    try:\n",
    "        if re.match(regex, l[\"title\"]):\n",
    "            links[\"liens\"].append(base_url + l[\"href\"])\n",
    "            links[\"nom_page\"].append(l[\"title\"])\n",
    "    except:\n",
    "        pass"
   ]
  },
  {
   "cell_type": "markdown",
   "metadata": {},
   "source": [
    "A partir des données récupérées, on peut créer un tableau qui contiendra le nom des pages et les liens. Grâce à cela, on pourra récupérer le text intégral des pages Wikipedia qui nous intéressent."
   ]
  },
  {
   "cell_type": "code",
   "execution_count": 5,
   "metadata": {},
   "outputs": [],
   "source": [
    "df = pd.DataFrame(links)"
   ]
  },
  {
   "cell_type": "markdown",
   "metadata": {},
   "source": [
    "Ajoutons maintenant le texte intégral des pages web qui nous intéressent dans notre tableau."
   ]
  },
  {
   "cell_type": "code",
   "execution_count": 6,
   "metadata": {},
   "outputs": [],
   "source": [
    "full_text = []"
   ]
  },
  {
   "cell_type": "code",
   "execution_count": 7,
   "metadata": {},
   "outputs": [
    {
     "name": "stderr",
     "output_type": "stream",
     "text": [
      "76it [00:35,  2.17it/s]\n"
     ]
    }
   ],
   "source": [
    "for link in tqdm(df.iterrows()):\n",
    "    r = requests.get(link[1][\"liens\"])\n",
    "    soup = BeautifulSoup(r.text, \"html5lib\")\n",
    "    try:\n",
    "        body = soup.find(\"div\", attrs={\"class\", \"mw-content-container\"})\n",
    "        full_text.append(body.get_text())\n",
    "    except AttributeError:\n",
    "        full_text.append(soup.get_text())"
   ]
  },
  {
   "cell_type": "code",
   "execution_count": 8,
   "metadata": {},
   "outputs": [],
   "source": [
    "df[\"full_text\"] = full_text"
   ]
  },
  {
   "cell_type": "markdown",
   "metadata": {},
   "source": [
    "Nous pouvons maintenir exporter le résultat dans un tableau CSV."
   ]
  },
  {
   "cell_type": "code",
   "execution_count": 9,
   "metadata": {},
   "outputs": [],
   "source": [
    "df.to_csv(\"revolution.csv\", sep=\";\", encoding=\"utf-8\")"
   ]
  },
  {
   "cell_type": "markdown",
   "metadata": {},
   "source": [
    "Nous pouvons créer une fonction pour nettoyer les corpus."
   ]
  },
  {
   "cell_type": "code",
   "execution_count": 10,
   "metadata": {},
   "outputs": [
    {
     "data": {
      "text/html": [
       "<div>\n",
       "<style scoped>\n",
       "    .dataframe tbody tr th:only-of-type {\n",
       "        vertical-align: middle;\n",
       "    }\n",
       "\n",
       "    .dataframe tbody tr th {\n",
       "        vertical-align: top;\n",
       "    }\n",
       "\n",
       "    .dataframe thead th {\n",
       "        text-align: right;\n",
       "    }\n",
       "</style>\n",
       "<table border=\"1\" class=\"dataframe\">\n",
       "  <thead>\n",
       "    <tr style=\"text-align: right;\">\n",
       "      <th></th>\n",
       "      <th>liens</th>\n",
       "      <th>nom_page</th>\n",
       "      <th>full_text</th>\n",
       "    </tr>\n",
       "  </thead>\n",
       "  <tbody>\n",
       "    <tr>\n",
       "      <td>0</td>\n",
       "      <td>https://fr.wikipedia.org/wiki/R%C3%A9volution_...</td>\n",
       "      <td>Révolution industrielle</td>\n",
       "      <td>\\n\\n\\n\\t\\n\\t\\n\\t\\n\\t\\n\\tRévolution industriell...</td>\n",
       "    </tr>\n",
       "    <tr>\n",
       "      <td>1</td>\n",
       "      <td>https://fr.wikipedia.org/wiki/R%C3%A9volution_...</td>\n",
       "      <td>Révolution (politique et sociale)</td>\n",
       "      <td>\\n\\n\\n\\t\\n\\t\\n\\t\\n\\t\\n\\tRévolution\\n\\t\\n\\t\\tUn...</td>\n",
       "    </tr>\n",
       "    <tr>\n",
       "      <td>2</td>\n",
       "      <td>https://fr.wikipedia.org/wiki/R%C3%A9volution_...</td>\n",
       "      <td>Révolution sociale</td>\n",
       "      <td>\\n\\n\\n\\t\\n\\t\\n\\t\\n\\t\\n\\tRévolution sociale\\n\\t...</td>\n",
       "    </tr>\n",
       "    <tr>\n",
       "      <td>3</td>\n",
       "      <td>https://fr.wikipedia.org/wiki/R%C3%A9volution_...</td>\n",
       "      <td>Révolution néolithique</td>\n",
       "      <td>\\n\\n\\n\\t\\n\\t\\n\\t\\n\\t\\n\\tRévolution néolithique...</td>\n",
       "    </tr>\n",
       "    <tr>\n",
       "      <td>4</td>\n",
       "      <td>https://fr.wikipedia.org/wiki/R%C3%A9volution_...</td>\n",
       "      <td>Révolution agricole</td>\n",
       "      <td>\\n\\n\\n\\t\\n\\t\\n\\t\\n\\t\\n\\tRévolution agricole\\n\\...</td>\n",
       "    </tr>\n",
       "  </tbody>\n",
       "</table>\n",
       "</div>"
      ],
      "text/plain": [
       "                                               liens  \\\n",
       "0  https://fr.wikipedia.org/wiki/R%C3%A9volution_...   \n",
       "1  https://fr.wikipedia.org/wiki/R%C3%A9volution_...   \n",
       "2  https://fr.wikipedia.org/wiki/R%C3%A9volution_...   \n",
       "3  https://fr.wikipedia.org/wiki/R%C3%A9volution_...   \n",
       "4  https://fr.wikipedia.org/wiki/R%C3%A9volution_...   \n",
       "\n",
       "                            nom_page  \\\n",
       "0            Révolution industrielle   \n",
       "1  Révolution (politique et sociale)   \n",
       "2                 Révolution sociale   \n",
       "3             Révolution néolithique   \n",
       "4                Révolution agricole   \n",
       "\n",
       "                                           full_text  \n",
       "0  \\n\\n\\n\\t\\n\\t\\n\\t\\n\\t\\n\\tRévolution industriell...  \n",
       "1  \\n\\n\\n\\t\\n\\t\\n\\t\\n\\t\\n\\tRévolution\\n\\t\\n\\t\\tUn...  \n",
       "2  \\n\\n\\n\\t\\n\\t\\n\\t\\n\\t\\n\\tRévolution sociale\\n\\t...  \n",
       "3  \\n\\n\\n\\t\\n\\t\\n\\t\\n\\t\\n\\tRévolution néolithique...  \n",
       "4  \\n\\n\\n\\t\\n\\t\\n\\t\\n\\t\\n\\tRévolution agricole\\n\\...  "
      ]
     },
     "execution_count": 10,
     "metadata": {},
     "output_type": "execute_result"
    }
   ],
   "source": [
    "df.head()"
   ]
  },
  {
   "cell_type": "markdown",
   "metadata": {},
   "source": [
    "## 2. Nettoyage du corpus"
   ]
  },
  {
   "cell_type": "markdown",
   "metadata": {},
   "source": [
    "Nous récupérons un corpus de texte brut qu'il nous faut nettoyer avant de l'utiliser.\n",
    "\n",
    "Premièrement, retirons tous les \"grands\" caractères d'espacement (`\\n`, `\\t`)."
   ]
  },
  {
   "cell_type": "code",
   "execution_count": 18,
   "metadata": {},
   "outputs": [],
   "source": [
    "def remove_widespaces(text):\n",
    "    regex = re.compile(r\"\\n|\\t\")\n",
    "    text = re.sub(regex, \" \", text)\n",
    "    return text"
   ]
  },
  {
   "cell_type": "markdown",
   "metadata": {},
   "source": [
    "Ensuite, retirons les espaces non sécables."
   ]
  },
  {
   "cell_type": "code",
   "execution_count": 19,
   "metadata": {},
   "outputs": [],
   "source": [
    "def remove_nonbreaking_spaces(text):\n",
    "    regex = re.compile(r\"\\xa0\")\n",
    "    text = re.sub(regex, \" \", text)\n",
    "    return text"
   ]
  },
  {
   "cell_type": "markdown",
   "metadata": {},
   "source": [
    "Retirons maintenant les notes inscrites entre crochets."
   ]
  },
  {
   "cell_type": "code",
   "execution_count": 20,
   "metadata": {},
   "outputs": [],
   "source": [
    "def remove_notes(text):\n",
    "    regex = re.compile(r\"\\[*?\\]\")\n",
    "    text = re.sub(regex, \" \", text)\n",
    "    return text"
   ]
  },
  {
   "cell_type": "markdown",
   "metadata": {},
   "source": [
    "Ensuite, retirons des éléments de formatage de Wikipedia."
   ]
  },
  {
   "cell_type": "code",
   "execution_count": 21,
   "metadata": {},
   "outputs": [],
   "source": [
    "def remove_wikicode(text):\n",
    "    regex = re.compile(r\"\\[modifier | modifier le code\")\n",
    "    text = re.sub(regex, \" \", text)\n",
    "    return text"
   ]
  },
  {
   "cell_type": "markdown",
   "metadata": {},
   "source": [
    "Enfin, retirons les notes numérotées mal formatées."
   ]
  },
  {
   "cell_type": "code",
   "execution_count": 22,
   "metadata": {},
   "outputs": [],
   "source": [
    "def remove_num_notes(text):\n",
    "    regex = re.compile(r\"\\[\\d+\")\n",
    "    text = re.sub(regex, \" \", text)\n",
    "    return text"
   ]
  },
  {
   "cell_type": "markdown",
   "metadata": {},
   "source": [
    "Retirons également les barres obliques."
   ]
  },
  {
   "cell_type": "code",
   "execution_count": 23,
   "metadata": {},
   "outputs": [],
   "source": [
    "def remove_vertical(text):\n",
    "    regex = re.compile(r\"\\|\")\n",
    "    text = re.sub(regex, \" \", text)\n",
    "    return text"
   ]
  },
  {
   "cell_type": "markdown",
   "metadata": {},
   "source": [
    "Enfin, retirons les flèches verticales utilisées dans les notes de bas de page."
   ]
  },
  {
   "cell_type": "code",
   "execution_count": 24,
   "metadata": {},
   "outputs": [],
   "source": [
    "def remove_arrow(text):\n",
    "    regex = re.compile(r\"↑\")\n",
    "    text = re.sub(regex, \" \", text)\n",
    "    return text"
   ]
  },
  {
   "cell_type": "markdown",
   "metadata": {},
   "source": [
    "Appliquons toutes les fonctions de nettoyage sur le corpus."
   ]
  },
  {
   "cell_type": "code",
   "execution_count": 27,
   "metadata": {},
   "outputs": [],
   "source": [
    "for index, row in df.iterrows():\n",
    "    new_row = remove_arrow(remove_vertical(remove_num_notes(remove_wikicode(remove_notes(remove_nonbreaking_spaces(remove_widespaces(row[\"full_text\"])))))))\n",
    "    row[\"full_text\"] = new_row"
   ]
  },
  {
   "cell_type": "markdown",
   "metadata": {},
   "source": [
    "Exportons à présent le corpus nettoyé."
   ]
  },
  {
   "cell_type": "code",
   "execution_count": 29,
   "metadata": {},
   "outputs": [],
   "source": [
    "df.to_csv(\"revolution_clean.csv\", sep=\";\", encoding=\"utf-8\")"
   ]
  },
  {
   "cell_type": "markdown",
   "metadata": {},
   "source": [
    "## 3. Préparation du corpus pour Iramuteq"
   ]
  },
  {
   "cell_type": "code",
   "execution_count": 10,
   "metadata": {},
   "outputs": [],
   "source": [
    "import pandas as pd"
   ]
  },
  {
   "cell_type": "code",
   "execution_count": 11,
   "metadata": {},
   "outputs": [],
   "source": [
    "df_clean = pd.read_csv(\"revolution_clean.csv\", sep=\";\", encoding=\"utf-8\")"
   ]
  },
  {
   "cell_type": "code",
   "execution_count": 12,
   "metadata": {},
   "outputs": [],
   "source": [
    "title = []\n",
    "full_text = []\n",
    "\n",
    "for index, row in df_clean.iterrows():\n",
    "    title_nospace = row[\"nom_page\"].replace(\" \", \"-\")\n",
    "    title.append(title_nospace)\n",
    "    full_text.append(row[\"full_text\"])\n",
    "\n",
    "\n",
    "with open(\"corpus_revolution_iramuteq.txt\", \"w\", encoding=\"utf-8\") as file:\n",
    "    for t, f in zip(title, full_text):\n",
    "        \n",
    "        file.write(f\"**** *titre_{t} \\n\\n {f} \\n\\n\")"
   ]
  },
  {
   "cell_type": "code",
   "execution_count": null,
   "metadata": {},
   "outputs": [],
   "source": []
  }
 ],
 "metadata": {
  "kernelspec": {
   "display_name": "Python 3",
   "language": "python",
   "name": "python3"
  },
  "language_info": {
   "codemirror_mode": {
    "name": "ipython",
    "version": 3
   },
   "file_extension": ".py",
   "mimetype": "text/x-python",
   "name": "python",
   "nbconvert_exporter": "python",
   "pygments_lexer": "ipython3",
   "version": "3.7.4"
  }
 },
 "nbformat": 4,
 "nbformat_minor": 4
}
